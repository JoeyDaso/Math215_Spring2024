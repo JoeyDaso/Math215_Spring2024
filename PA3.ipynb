{
 "cells": [
  {
   "cell_type": "markdown",
   "metadata": {
    "id": "XdNI9K7p2a54"
   },
   "source": [
    "## Math 215 Programming Assignment 3 Template  (40 points)\n",
    "Rename this notebook properly as in PA 1&2 before submission. Use Anaconda for this PA (for a few of you who cann't, pay attention to the special instructions in the comments about how to work in Google Colab for this PA.)"
   ]
  },
  {
   "cell_type": "markdown",
   "metadata": {
    "id": "_UeoH0qQ2Xy3"
   },
   "source": [
    "## Q1.  (15 points) Build functions for DNA strings\n",
    "\n",
    "In Week 5, we discussed a few tasks involving a DNA sequence. The completed notebook can be found in `02132024_Week05_Tuesday.ipynb`.\n",
    "In this problem, you will convert some of these tasks into Python `functions` so that we can apply them with a real DNA sequence read from a file `ecoli.txt` of length 4,638,690.\n",
    "\n",
    "For each function, find the input and out requirements in the comments.\n",
    "\n",
    "Using the code template provided below to read in the DNA sequence for `ecoli.txt`.  You will need to download the file `ecoli.txt` to the same directory as this notebook.  \n",
    "\n",
    "**You job is to complete each function from `task1()` to `task5()`.**  I have dictated the program structure here - you may only change the code in the bodies of the functions task1, task2, task3, task4, and the calling code for task4.  There are 5 print statements that start with `print(\"To do:  \")`. **You should replace those print statements with your code.**   (3 points for each part listed below)\n",
    "\n",
    "1.  Return the G-concentration in the string (= the number of G’s in the string)/(length of string).  Input: DNA string.  Output type: `float`\n",
    "\n",
    "2.  Generate a random DNA string of length n.  Input: int n, Output type: `str`\n",
    "\n",
    "3.  The location of the beginning of the substring of your DNA string of length 20 that has the highest G-concentration.  Input: DNA string. Output type: `int`\n",
    "\n",
    "4.  Return the location of the beginning of the substring of your choice. Input: DNA string; a substr (for instance, `CGT`). Output type: `int`\n",
    "\n",
    "5.  Write the correct calling code for your task4 function.\n",
    "\n",
    "\n"
   ]
  },
  {
   "cell_type": "code",
   "execution_count": 1,
   "metadata": {
    "id": "eRrPgcSA3Cq_"
   },
   "outputs": [
    {
     "ename": "FileNotFoundError",
     "evalue": "[Errno 2] No such file or directory: 'ecoli.txt'",
     "output_type": "error",
     "traceback": [
      "\u001b[1;31m---------------------------------------------------------------------------\u001b[0m",
      "\u001b[1;31mFileNotFoundError\u001b[0m                         Traceback (most recent call last)",
      "Cell \u001b[1;32mIn[1], line 14\u001b[0m\n\u001b[0;32m      1\u001b[0m \u001b[38;5;124;03m\"\"\"\u001b[39;00m\n\u001b[0;32m      2\u001b[0m \u001b[38;5;124;03mIf you are using Google Colab, download ecoli.txt to your Google Drive\\Colab Notebooks,\u001b[39;00m\n\u001b[0;32m      3\u001b[0m \u001b[38;5;124;03mwhich is where your copied notebook is located at. Then, uncomment the three lines below\u001b[39;00m\n\u001b[1;32m   (...)\u001b[0m\n\u001b[0;32m      6\u001b[0m \u001b[38;5;124;03mIf you are using Anaconda, leave them commented. You script starts from Line 12.\u001b[39;00m\n\u001b[0;32m      7\u001b[0m \u001b[38;5;124;03m\"\"\"\u001b[39;00m\n\u001b[0;32m      8\u001b[0m \u001b[38;5;66;03m# from google.colab import drive\u001b[39;00m\n\u001b[0;32m      9\u001b[0m \u001b[38;5;66;03m# drive.mount('/content/drive')\u001b[39;00m\n\u001b[0;32m     10\u001b[0m \u001b[38;5;66;03m# %cd /content/drive/MyDrive/Colab Notebooks/\u001b[39;00m\n\u001b[0;32m     11\u001b[0m \n\u001b[0;32m     12\u001b[0m \n\u001b[0;32m     13\u001b[0m \u001b[38;5;66;03m## Don't change anything from line 14 to line 41\u001b[39;00m\n\u001b[1;32m---> 14\u001b[0m \u001b[38;5;28;01mwith\u001b[39;00m \u001b[38;5;28mopen\u001b[39m(\u001b[38;5;124m'\u001b[39m\u001b[38;5;124mecoli.txt\u001b[39m\u001b[38;5;124m'\u001b[39m, \u001b[38;5;124m'\u001b[39m\u001b[38;5;124mr\u001b[39m\u001b[38;5;124m'\u001b[39m) \u001b[38;5;28;01mas\u001b[39;00m txtfile:\n\u001b[0;32m     15\u001b[0m     dna_str \u001b[38;5;241m=\u001b[39m txtfile\u001b[38;5;241m.\u001b[39mread()\n\u001b[0;32m     17\u001b[0m \u001b[38;5;28;01mif\u001b[39;00m \u001b[38;5;28mlen\u001b[39m(dna_str) \u001b[38;5;241m!=\u001b[39m \u001b[38;5;241m4638690\u001b[39m:\n",
      "File \u001b[1;32mD:\\Programs\\Anaconda3\\Lib\\site-packages\\IPython\\core\\interactiveshell.py:310\u001b[0m, in \u001b[0;36m_modified_open\u001b[1;34m(file, *args, **kwargs)\u001b[0m\n\u001b[0;32m    303\u001b[0m \u001b[38;5;28;01mif\u001b[39;00m file \u001b[38;5;129;01min\u001b[39;00m {\u001b[38;5;241m0\u001b[39m, \u001b[38;5;241m1\u001b[39m, \u001b[38;5;241m2\u001b[39m}:\n\u001b[0;32m    304\u001b[0m     \u001b[38;5;28;01mraise\u001b[39;00m \u001b[38;5;167;01mValueError\u001b[39;00m(\n\u001b[0;32m    305\u001b[0m         \u001b[38;5;124mf\u001b[39m\u001b[38;5;124m\"\u001b[39m\u001b[38;5;124mIPython won\u001b[39m\u001b[38;5;124m'\u001b[39m\u001b[38;5;124mt let you open fd=\u001b[39m\u001b[38;5;132;01m{\u001b[39;00mfile\u001b[38;5;132;01m}\u001b[39;00m\u001b[38;5;124m by default \u001b[39m\u001b[38;5;124m\"\u001b[39m\n\u001b[0;32m    306\u001b[0m         \u001b[38;5;124m\"\u001b[39m\u001b[38;5;124mas it is likely to crash IPython. If you know what you are doing, \u001b[39m\u001b[38;5;124m\"\u001b[39m\n\u001b[0;32m    307\u001b[0m         \u001b[38;5;124m\"\u001b[39m\u001b[38;5;124myou can use builtins\u001b[39m\u001b[38;5;124m'\u001b[39m\u001b[38;5;124m open.\u001b[39m\u001b[38;5;124m\"\u001b[39m\n\u001b[0;32m    308\u001b[0m     )\n\u001b[1;32m--> 310\u001b[0m \u001b[38;5;28;01mreturn\u001b[39;00m io_open(file, \u001b[38;5;241m*\u001b[39margs, \u001b[38;5;241m*\u001b[39m\u001b[38;5;241m*\u001b[39mkwargs)\n",
      "\u001b[1;31mFileNotFoundError\u001b[0m: [Errno 2] No such file or directory: 'ecoli.txt'"
     ]
    }
   ],
   "source": [
    "\"\"\"\n",
    "If you are using Google Colab, download ecoli.txt to your Google Drive\\Colab Notebooks,\n",
    "which is where your copied notebook is located at. Then, uncomment the three lines below\n",
    "(Line 8-10).\n",
    "\n",
    "If you are using Anaconda, leave them commented. You script starts from Line 12.\n",
    "\"\"\"\n",
    "# from google.colab import drive\n",
    "# drive.mount('/content/drive')\n",
    "# %cd /content/drive/MyDrive/Colab Notebooks/\n",
    "\n",
    "\n",
    "## Don't change anything from line 14 to line 41\n",
    "with open('ecoli.txt', 'r') as txtfile:\n",
    "    dna_str = txtfile.read()\n",
    "\n",
    "if len(dna_str) != 4638690:\n",
    "    print(\"problem reading from ecoli.txt\")\n",
    "\n",
    "# We use the convention of upper cases in this problem for all DNA characters.\n",
    "dna_str = dna_str.upper()\n",
    "\n",
    "def show_menu():\n",
    "    print()\n",
    "    print(f'Here are the possible tasks:')\n",
    "    print(f'1:  Find the G-concentration of a DNA string')\n",
    "    print(f'2:  Generate a random DNA string')\n",
    "    print(f'3:  The location of the beginning of the substring of a DNA string\\n \\\n",
    "    of length 10 that has the highest G-concentration')\n",
    "    print(f'4:  Your task')\n",
    "    print(f'-1: Quit')\n",
    "    print()\n",
    "\n",
    "def get_string():\n",
    "    print('Would you like to use ecoli (E) or a random string of DNA (R)? Type E or R')\n",
    "    choice = input()\n",
    "    if choice.upper() == 'E':\n",
    "        user_str = dna_str\n",
    "    else:\n",
    "        user_str = task2(50)\n",
    "    return user_str\n",
    "\n",
    "\n",
    "# write your code for each of task1() -- task4()\n",
    "def task1(astr):\n",
    "    # return the G-concentration of astr\n",
    "    print('To do 1:  Implement task1')\n",
    "    return -1\n",
    "\n",
    "def task2(n):\n",
    "    # return a random DNA string of length n\n",
    "    print('To do 2:  Implement task2')\n",
    "    return ''\n",
    "\n",
    "def task3(astr):\n",
    "    # return the location of the beginning of the substring of a DNA string\n",
    "    # of length 10 that has the highest G-Concnetration\n",
    "    print('To do 3:  Implement task3')\n",
    "    return -1\n",
    "\n",
    "def task4():\n",
    "    # Implement a task of your choosing.  Document here in a comment what your function computes\n",
    "    # You may add parameters to the function as needed\n",
    "    print('To do 4:  Implement task4')\n",
    "\n",
    "\n",
    "## don't change anything till line 81\n",
    "user_task = 0\n",
    "while user_task != -1:\n",
    "    show_menu()\n",
    "    user_task = int(input(\"Select a task by number \"))\n",
    "    if user_task == 1:\n",
    "        str1 = get_string()\n",
    "        print(f'G concentration of {str1[0:5]}... is {task1(str1):.6f}')\n",
    "    elif user_task == 2:\n",
    "        m = int(input('Enter the length as a positive integer: '))\n",
    "        print(f'Random DNA string is {task2(m)}')\n",
    "    elif user_task == 3:\n",
    "        str3 = get_string()\n",
    "        print(f'Location of highest G concentration of {str1[0:5]}... is index {task3(str3)}')\n",
    "    elif user_task == 4:\n",
    "        str4 = get_string()\n",
    "        # write your code below to call task4() correctly\n",
    "        print(\"To do 5:  Write calling code for task 4\")\n",
    "\n",
    "    elif user_task == -1:\n",
    "        print('Goodbye')\n",
    "    else:\n",
    "        print(\"Make a valid choice\")\n",
    "\n",
    "\n"
   ]
  },
  {
   "cell_type": "markdown",
   "metadata": {
    "id": "BfH0ZPMqoKty"
   },
   "source": [
    "## Q2.  (9 points) The Hailstone sequence. This is given on zyBook. Please do it there.\n",
    "\n",
    "Note: this sequence is still a conjecture (one of the most famous conjectures!) Introduced in 1937, it is widely considered as \"too difficuilt\" for present days Mathematics to solve."
   ]
  },
  {
   "cell_type": "markdown",
   "metadata": {
    "id": "risL9BbP6ZYs"
   },
   "source": [
    "## Q3.  (16 points)  Hailstone sequence.  \n",
    "\n",
    "1.  First complete Q2 above.\n",
    "\n",
    "2.  Then rewrite the code for the Hailstone sequence so that it uses a function. Define a function `h(n)` which returns the count of numbers in the Hailstone sequence starting at n (including n and 1 in the count).  For example,$$h(1) = 1, \\quad h(2) = 2, \\quad h(16) = 5, \\quad h(25) = 24.$$ You function should not print the sequence, only return the length of the sequence.\n",
    "\n",
    "3.  The point $(n, h(n))$ is a highwater mark for the hailstone sequence if $h(n) > h(j)$ for all $j < n$.  Write a function `hwm(n)` that\n",
    "\n",
    "\n",
    "*   has an input of an `int` $n$;\n",
    "*   returns a `list` of all the pairs $(m, h(m))$ that are highwater marks with $m \\leq n$.  \n",
    "\n",
    "For example, inspecting the values of the Hailstone sequence shows us that\n",
    "(1, h(1)), (2, h(2)), (3, h(3)), (6, h(6)), (7, h(7)), (9, h(9)) and (18, h(18)) are all high water marks. Therefore, calling `hwm(8)` should return the list `[(1, h(1)), (2, h(2)), (3, h(3)), (6, h(6)), (7, h(7))]`.\n",
    "\n",
    "4.  Give a graphical display of the values of the hailstone sequence.  You should plot (recall from PA2) the points $(n, h(n))$ for n less than or equal to 10,000, with the highwater marks colored in a different color. Choose reasonable options for your plot.\n",
    "\n"
   ]
  },
  {
   "cell_type": "code",
   "execution_count": null,
   "metadata": {
    "id": "Rb4Lkw8dlLzF"
   },
   "outputs": [],
   "source": [
    "def h(n):\n",
    "  # Your code goes here - replace my stub with the correct code\n",
    "  return -1\n",
    "\n",
    "def hwm(n):\n",
    "  # Your code goes here - replace my stub with the correct code\n",
    "  return [(1, 1)]\n",
    "\n",
    "for k in range(1, 20):\n",
    "  print(f'h({k}) = {h(k)}, ', end = ' ')\n",
    "  if k % 8 == 0:  ## break line every 8 numbers\n",
    "    print()\n",
    "\n",
    "m = int(input(\"Enter a positive integer m: \"))\n",
    "print(f'Highwater marks below {m} are {hwm(m)}')\n",
    "\n",
    "print('Now show a graphical respresentation')"
   ]
  },
  {
   "cell_type": "markdown",
   "metadata": {
    "id": "umRSgX6es1MX"
   },
   "source": [
    "## Submission:\n",
    "\n",
    "\n",
    "\n",
    "1.   **Do a free run of the notebook** by clicking *Cell -> Run All* from the menu (*Runtime* on Google Colab). This will run from the first cell. You can also click *Cell -> All Output -> Clear* to clear all output cells.\n",
    "2.   For Q1, run with menu option `1` through `4` so that each of the four functions are used once. Then finish with option `-1` to exit.\n",
    "3.   For Q3, run with input `10,000`.\n",
    "3.   Save, then downlonad the completed notebook as a .ipynb file to your device. It will contain all the output cells. Make sure you follow the naming convention given in PA1.\n",
    "3.   Submit the file on Sakai -> Gradescope (you can also go straight to [www.gradescope.com](www.gradescope.com)) to *Programming Assignment 3*.\n",
    "\n"
   ]
  },
  {
   "cell_type": "code",
   "execution_count": null,
   "metadata": {
    "id": "jr8wfaLPv2Ww"
   },
   "outputs": [],
   "source": []
  }
 ],
 "metadata": {
  "colab": {
   "provenance": []
  },
  "kernelspec": {
   "display_name": "Python 3 (ipykernel)",
   "language": "python",
   "name": "python3"
  },
  "language_info": {
   "codemirror_mode": {
    "name": "ipython",
    "version": 3
   },
   "file_extension": ".py",
   "mimetype": "text/x-python",
   "name": "python",
   "nbconvert_exporter": "python",
   "pygments_lexer": "ipython3",
   "version": "3.11.5"
  }
 },
 "nbformat": 4,
 "nbformat_minor": 4
}
